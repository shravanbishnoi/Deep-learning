{
  "nbformat": 4,
  "nbformat_minor": 0,
  "metadata": {
    "colab": {
      "provenance": [],
      "gpuType": "T4"
    },
    "kernelspec": {
      "name": "python3",
      "display_name": "Python 3"
    },
    "language_info": {
      "name": "python"
    },
    "accelerator": "GPU"
  },
  "cells": [
    {
      "cell_type": "code",
      "execution_count": 81,
      "metadata": {
        "id": "pAETDP0XJKl_"
      },
      "outputs": [],
      "source": [
        "# import pandas as pd\n",
        "# from sklearn.model_selection import train_test_split\n",
        "\n",
        "# # Step 1: Load the original dataset\n",
        "# # Replace 'original_dataset.csv' with the path to your actual CSV file\n",
        "# df1 = pd.read_csv('tweet_emotions.csv')\n",
        "# df1 = df1.drop(columns=['tweet_id'])\n",
        "\n",
        "# sentiments_to_drop = ['boredom', 'enthusiasm', 'relief', 'surprise', 'worry']\n",
        "\n",
        "# df = df1[~df1['sentiment'].isin(sentiments_to_drop)]\n",
        "# df = df.rename(columns={'sentiment': 'label', 'content': 'text'})\n",
        "\n",
        "\n",
        "# # Step 2: Check the columns of your CSV (this is optional, but useful for ensuring correct columns)\n",
        "# print(df.columns)\n",
        "# print(df['label'].unique())\n",
        "# # Step 3: Perform an 80:20 split\n",
        "# train_df, test_df = train_test_split(df, test_size=0.2, random_state=42)\n",
        "\n",
        "# # Step 4: Save the splits to separate CSV files\n",
        "# train_df.to_csv('train.csv', index=False)  # Save training data\n",
        "# test_df.to_csv('test.csv', index=False)    # Save test data\n",
        "\n",
        "# print(\"Train and test CSVs created successfully!\")\n"
      ]
    },
    {
      "cell_type": "code",
      "source": [
        "# # # step: 1\n",
        "!pip3 install pyarrow==14.0.1\n",
        "!pip3 install -q transformers datasets torch accelerate evaluate"
      ],
      "metadata": {
        "id": "CAIkfU-HJ6Yi"
      },
      "execution_count": 82,
      "outputs": []
    },
    {
      "cell_type": "code",
      "source": [
        "# step: 2\n",
        "from transformers import AutoTokenizer, AutoModelForSequenceClassification, TrainingArguments, Trainer\n",
        "from datasets import load_dataset\n",
        "import numpy as np\n",
        "import torch\n",
        "import evaluate\n",
        "from sklearn.metrics import confusion_matrix\n",
        "import matplotlib.pyplot as plt\n",
        "import seaborn as sns\n",
        "from sklearn.metrics import classification_report\n"
      ],
      "metadata": {
        "id": "qSfvBqaiJ85_"
      },
      "execution_count": 83,
      "outputs": []
    },
    {
      "cell_type": "code",
      "source": [
        "# Step 3: Define your emotion classes\n",
        "emotion_labels = ['empty', 'sadness', 'neutral', 'love', 'fun', 'hate', 'happiness', 'anger']\n",
        "num_labels = len(emotion_labels)"
      ],
      "metadata": {
        "id": "kw2qg3-fKAkV"
      },
      "execution_count": 84,
      "outputs": []
    },
    {
      "cell_type": "code",
      "source": [
        "# Step 4: Load the dataset from CSV files\n",
        "# Assuming your dataset is split into train and test CSVs with 'text' for the tweet and 'label' for the emotion label\n",
        "dataset = load_dataset('csv', data_files={'train': 'train.csv', 'test': 'test.csv'})\n",
        "train_dataset = dataset['train'].select(range(1000))  # Select first 1000 samples for training\n",
        "eval_dataset = dataset['test'].select(range(200))  # Select first 200 samples for evaluation\n"
      ],
      "metadata": {
        "id": "IPQTc4vvKFTn"
      },
      "execution_count": 85,
      "outputs": []
    },
    {
      "cell_type": "code",
      "source": [
        "# Step 5: Load the BERT tokenizer\n",
        "model_name = 'bert-base-cased'  # You can use 'bert-base-uncased' if your data is not case-sensitive\n",
        "tokenizer = AutoTokenizer.from_pretrained(model_name)"
      ],
      "metadata": {
        "colab": {
          "base_uri": "https://localhost:8080/"
        },
        "id": "8qYCwgeDKGc7",
        "outputId": "a687cbde-89be-4517-a05a-4151d201406e"
      },
      "execution_count": 86,
      "outputs": [
        {
          "output_type": "stream",
          "name": "stderr",
          "text": [
            "/usr/local/lib/python3.10/dist-packages/transformers/tokenization_utils_base.py:1601: FutureWarning: `clean_up_tokenization_spaces` was not set. It will be set to `True` by default. This behavior will be depracted in transformers v4.45, and will be then set to `False` by default. For more details check this issue: https://github.com/huggingface/transformers/issues/31884\n",
            "  warnings.warn(\n"
          ]
        }
      ]
    },
    {
      "cell_type": "code",
      "source": [
        "# Step 6: Function to map emotion labels to numeric indices\n",
        "def map_labels(example):\n",
        "    # Convert text label to an integer index based on the emotion_labels list\n",
        "    example['label'] = emotion_labels.index(example['label'])\n",
        "    return example\n",
        "\n",
        "# Apply label mapping to train and test datasets\n",
        "dataset = dataset.map(map_labels)\n"
      ],
      "metadata": {
        "id": "2CjFwNbEKIy7"
      },
      "execution_count": 87,
      "outputs": []
    },
    {
      "cell_type": "code",
      "source": [
        "\n",
        "# Step 7: Function to tokenize the dataset\n",
        "def tokenize_function(example):\n",
        "    # Tokenize the 'text' column of the dataset\n",
        "    return tokenizer(example['text'], padding='max_length', truncation=True)\n",
        "\n",
        "# Tokenize the dataset\n",
        "tokenized_dataset = dataset.map(tokenize_function, batched=True)\n"
      ],
      "metadata": {
        "id": "uO8WPHVsKLPv"
      },
      "execution_count": 88,
      "outputs": []
    },
    {
      "cell_type": "code",
      "source": [
        "# Step 8: Remove unnecessary columns after tokenization\n",
        "# We only need 'input_ids', 'attention_mask', and 'label' for training, so remove 'text'\n",
        "tokenized_dataset = tokenized_dataset.remove_columns(['text'])\n"
      ],
      "metadata": {
        "id": "m2nnV6kHKLM4"
      },
      "execution_count": 89,
      "outputs": []
    },
    {
      "cell_type": "code",
      "source": [
        "\n",
        "# Step 9: Load the BERT model with a classification head for multi-class classification\n",
        "model = AutoModelForSequenceClassification.from_pretrained(model_name, num_labels=num_labels)\n"
      ],
      "metadata": {
        "colab": {
          "base_uri": "https://localhost:8080/"
        },
        "id": "q_N9Zsc0KLK1",
        "outputId": "e78541c8-244a-4ed6-b557-18c2846fd3c7"
      },
      "execution_count": 90,
      "outputs": [
        {
          "output_type": "stream",
          "name": "stderr",
          "text": [
            "Some weights of BertForSequenceClassification were not initialized from the model checkpoint at bert-base-cased and are newly initialized: ['classifier.bias', 'classifier.weight']\n",
            "You should probably TRAIN this model on a down-stream task to be able to use it for predictions and inference.\n"
          ]
        }
      ]
    },
    {
      "cell_type": "markdown",
      "source": [
        "For Freezing the layers"
      ],
      "metadata": {
        "id": "NBeHNjTeTjrr"
      }
    },
    {
      "cell_type": "code",
      "source": [
        "\n",
        "# # Specify how many layers to freeze (e.g., freeze the first 6 layers)\n",
        "# num_layers_to_freeze = 6\n",
        "\n",
        "# # Freeze the specified layers\n",
        "# for i, layer in enumerate(model.bert.encoder.layer):\n",
        "#     if i < num_layers_to_freeze:\n",
        "#         for param in layer.parameters():\n",
        "#             param.requires_grad = False\n",
        "\n",
        "# # You can check which layers are frozen\n",
        "# for i, layer in enumerate(model.bert.encoder.layer):\n",
        "#     print(f\"Layer {i} requires_grad: {[param.requires_grad for param in layer.parameters()]}\")"
      ],
      "metadata": {
        "id": "O3pVgST5TlnS"
      },
      "execution_count": 91,
      "outputs": []
    },
    {
      "cell_type": "code",
      "source": [
        "# Step 10: Define training arguments for the Trainer API\n",
        "training_args = TrainingArguments(\n",
        "    output_dir=\"./results\",               # Output directory for model checkpoints\n",
        "    evaluation_strategy=\"epoch\",          # Evaluate after every epoch\n",
        "    save_strategy=\"epoch\",                # Save model checkpoint after every epoch\n",
        "    num_train_epochs=3,                   # Number of training epochs\n",
        "    per_device_train_batch_size=8,       # Training batch size per device (adjust based on your hardware)\n",
        "    per_device_eval_batch_size=8,        # Evaluation batch size per device\n",
        "    load_best_model_at_end=True,          # Load the best model at the end of training\n",
        "    metric_for_best_model=\"accuracy\",     # Use accuracy to select the best model\n",
        "    logging_dir='./logs',                 # Directory for storing logs\n",
        "    logging_strategy=\"epoch\",             # Log at the end of each epoch\n",
        "    report_to=\"none\",                     # Disable reporting to external platforms like TensorBoard\n",
        "    fp16=True,  # Enable mixed precision\n",
        "\n",
        ")"
      ],
      "metadata": {
        "colab": {
          "base_uri": "https://localhost:8080/"
        },
        "id": "fsv7UdrSKLId",
        "outputId": "786b9f39-e868-46c1-b212-c691282faca4"
      },
      "execution_count": 92,
      "outputs": [
        {
          "output_type": "stream",
          "name": "stderr",
          "text": [
            "/usr/local/lib/python3.10/dist-packages/transformers/training_args.py:1525: FutureWarning: `evaluation_strategy` is deprecated and will be removed in version 4.46 of 🤗 Transformers. Use `eval_strategy` instead\n",
            "  warnings.warn(\n"
          ]
        }
      ]
    },
    {
      "cell_type": "code",
      "source": [
        "# Step 11: Define a function to compute metrics for evaluation\n",
        "accuracy_metric = evaluate.load(\"accuracy\")\n",
        "\n",
        "def compute_metrics(eval_pred):\n",
        "    # Unpack predictions and labels from eval_pred\n",
        "    logits, labels = eval_pred\n",
        "    # Take the argmax of the logits to get the predicted class\n",
        "    predictions = np.argmax(logits, axis=-1)\n",
        "    # Return the computed accuracy\n",
        "    return accuracy_metric.compute(predictions=predictions, references=labels)\n"
      ],
      "metadata": {
        "id": "FmFBwABFK1KR"
      },
      "execution_count": 93,
      "outputs": []
    },
    {
      "cell_type": "code",
      "source": [
        "train_dataset = tokenized_dataset['train'].select(range(2000))  # Select first 1000 samples for training\n",
        "eval_dataset = tokenized_dataset['test'].select(range(1000))  # Select first 200 samples for evaluation"
      ],
      "metadata": {
        "id": "kYYugOYGK1Hb"
      },
      "execution_count": 94,
      "outputs": []
    },
    {
      "cell_type": "code",
      "source": [
        "# Step 12: Initialize the Trainer with model, arguments, dataset, and metrics\n",
        "trainer = Trainer(\n",
        "    model=model,\n",
        "    args=training_args,\n",
        "    train_dataset=train_dataset,\n",
        "    eval_dataset=eval_dataset,\n",
        "    compute_metrics=compute_metrics,\n",
        ")"
      ],
      "metadata": {
        "colab": {
          "base_uri": "https://localhost:8080/"
        },
        "id": "0kLdBXyIK1FN",
        "outputId": "3df8f1d6-e5e6-4255-d3ba-2ec88c706ee0"
      },
      "execution_count": 95,
      "outputs": [
        {
          "output_type": "stream",
          "name": "stderr",
          "text": [
            "/usr/local/lib/python3.10/dist-packages/accelerate/accelerator.py:494: FutureWarning: `torch.cuda.amp.GradScaler(args...)` is deprecated. Please use `torch.amp.GradScaler('cuda', args...)` instead.\n",
            "  self.scaler = torch.cuda.amp.GradScaler(**kwargs)\n"
          ]
        }
      ]
    },
    {
      "cell_type": "code",
      "source": [
        "# Step 13: Train the model\n",
        "trainer.train()\n"
      ],
      "metadata": {
        "colab": {
          "base_uri": "https://localhost:8080/",
          "height": 206
        },
        "id": "MgWCZX1WLKhO",
        "outputId": "bb797cca-0245-499f-c718-7eb9bf3fdd5e"
      },
      "execution_count": 96,
      "outputs": [
        {
          "output_type": "display_data",
          "data": {
            "text/plain": [
              "<IPython.core.display.HTML object>"
            ],
            "text/html": [
              "\n",
              "    <div>\n",
              "      \n",
              "      <progress value='750' max='750' style='width:300px; height:20px; vertical-align: middle;'></progress>\n",
              "      [750/750 04:11, Epoch 3/3]\n",
              "    </div>\n",
              "    <table border=\"1\" class=\"dataframe\">\n",
              "  <thead>\n",
              " <tr style=\"text-align: left;\">\n",
              "      <th>Epoch</th>\n",
              "      <th>Training Loss</th>\n",
              "      <th>Validation Loss</th>\n",
              "      <th>Accuracy</th>\n",
              "    </tr>\n",
              "  </thead>\n",
              "  <tbody>\n",
              "    <tr>\n",
              "      <td>1</td>\n",
              "      <td>1.632500</td>\n",
              "      <td>1.503996</td>\n",
              "      <td>0.459000</td>\n",
              "    </tr>\n",
              "    <tr>\n",
              "      <td>2</td>\n",
              "      <td>1.253900</td>\n",
              "      <td>1.534309</td>\n",
              "      <td>0.454000</td>\n",
              "    </tr>\n",
              "    <tr>\n",
              "      <td>3</td>\n",
              "      <td>0.850600</td>\n",
              "      <td>1.686768</td>\n",
              "      <td>0.467000</td>\n",
              "    </tr>\n",
              "  </tbody>\n",
              "</table><p>"
            ]
          },
          "metadata": {}
        },
        {
          "output_type": "execute_result",
          "data": {
            "text/plain": [
              "TrainOutput(global_step=750, training_loss=1.2456709391276042, metrics={'train_runtime': 252.0031, 'train_samples_per_second': 23.809, 'train_steps_per_second': 2.976, 'total_flos': 1578751377408000.0, 'train_loss': 1.2456709391276042, 'epoch': 3.0})"
            ]
          },
          "metadata": {},
          "execution_count": 96
        }
      ]
    },
    {
      "cell_type": "code",
      "source": [
        "# Step 14: Evaluate the model on the test set\n",
        "results = trainer.evaluate()\n",
        "print(f\"Test Accuracy: {results['eval_accuracy']}\")"
      ],
      "metadata": {
        "colab": {
          "base_uri": "https://localhost:8080/",
          "height": 55
        },
        "id": "uHVH7NfJLNfd",
        "outputId": "6d3c082b-2319-4d05-878e-2d23ad785255"
      },
      "execution_count": 97,
      "outputs": [
        {
          "output_type": "display_data",
          "data": {
            "text/plain": [
              "<IPython.core.display.HTML object>"
            ],
            "text/html": [
              "\n",
              "    <div>\n",
              "      \n",
              "      <progress value='125' max='125' style='width:300px; height:20px; vertical-align: middle;'></progress>\n",
              "      [125/125 00:07]\n",
              "    </div>\n",
              "    "
            ]
          },
          "metadata": {}
        },
        {
          "output_type": "stream",
          "name": "stdout",
          "text": [
            "Test Accuracy: 0.467\n"
          ]
        }
      ]
    },
    {
      "cell_type": "code",
      "source": [
        "# Step 1: Ensure the model is moved to the correct device (CPU or GPU)\n",
        "device = torch.device(\"cuda\" if torch.cuda.is_available() else \"cpu\")\n",
        "model.to(device)  # Move model to device\n",
        "\n",
        "def predict_emotion(tweet):\n",
        "    # Tokenize the input tweet\n",
        "    inputs = tokenizer(tweet, return_tensors=\"pt\", padding=True, truncation=True, max_length=128)\n",
        "\n",
        "    # Move input tensors to the same device as the model\n",
        "    inputs = {key: value.to(device) for key, value in inputs.items()}\n",
        "\n",
        "    # Put the model in evaluation mode\n",
        "    model.eval()\n",
        "\n",
        "    # Disable gradient calculation (inference mode)\n",
        "    with torch.no_grad():\n",
        "        outputs = model(**inputs)\n",
        "\n",
        "    # Get the predicted label (the argmax of the logits)\n",
        "    predicted_label = torch.argmax(outputs.logits, dim=-1).item()\n",
        "\n",
        "    # Return the predicted emotion (convert label back to emotion)\n",
        "    return emotion_labels[predicted_label]\n",
        "\n",
        "new_tweet = \"I am so happy today!\"\n",
        "predicted_emotion = predict_emotion(new_tweet)\n",
        "print(f\"Predicted emotion: {predicted_emotion}\")\n"
      ],
      "metadata": {
        "colab": {
          "base_uri": "https://localhost:8080/"
        },
        "id": "lOnnGSlsMKcZ",
        "outputId": "c27f216b-f6ce-4f4e-deb3-1676e976c1a5"
      },
      "execution_count": 98,
      "outputs": [
        {
          "output_type": "stream",
          "name": "stdout",
          "text": [
            "Predicted emotion: love\n"
          ]
        }
      ]
    },
    {
      "cell_type": "code",
      "source": [],
      "metadata": {
        "id": "N0RIDxO9Ljdz"
      },
      "execution_count": 98,
      "outputs": []
    },
    {
      "cell_type": "code",
      "source": [
        "\n",
        "# Step 1: Get predictions from the model\n",
        "predictions = trainer.predict(eval_dataset)\n",
        "pred_labels = np.argmax(predictions.predictions, axis=-1)  # Get the predicted class labels\n",
        "\n",
        "# Step 2: Get the true labels\n",
        "true_labels = eval_dataset['label']\n",
        "unique_true_labels = np.unique(true_labels)\n",
        "unique_pred_labels = np.unique(pred_labels)\n",
        "\n",
        "print(f\"Unique true labels: {unique_true_labels}\")\n",
        "print(f\"Unique predicted labels: {unique_pred_labels}\")\n",
        "all_labels = list(range(len(emotion_labels)))\n",
        "\n",
        "# Generate the classification report including all labels\n",
        "print(classification_report(true_labels, pred_labels, labels=all_labels, target_names=emotion_labels))"
      ],
      "metadata": {
        "colab": {
          "base_uri": "https://localhost:8080/",
          "height": 457
        },
        "id": "qASqmvSOLjWV",
        "outputId": "cf9a398a-b611-4578-87a1-52e38572e0d9"
      },
      "execution_count": 99,
      "outputs": [
        {
          "output_type": "display_data",
          "data": {
            "text/plain": [
              "<IPython.core.display.HTML object>"
            ],
            "text/html": []
          },
          "metadata": {}
        },
        {
          "output_type": "stream",
          "name": "stdout",
          "text": [
            "Unique true labels: [0 1 2 3 4 5 6 7]\n",
            "Unique predicted labels: [1 2 3 4 5 6]\n",
            "              precision    recall  f1-score   support\n",
            "\n",
            "       empty       0.00      0.00      0.00        36\n",
            "     sadness       0.46      0.52      0.49       198\n",
            "     neutral       0.55      0.62      0.58       324\n",
            "        love       0.58      0.39      0.47       152\n",
            "         fun       0.14      0.07      0.10        67\n",
            "        hate       0.30      0.19      0.23        42\n",
            "   happiness       0.37      0.53      0.43       173\n",
            "       anger       0.00      0.00      0.00         8\n",
            "\n",
            "    accuracy                           0.47      1000\n",
            "   macro avg       0.30      0.29      0.29      1000\n",
            "weighted avg       0.44      0.47      0.45      1000\n",
            "\n"
          ]
        },
        {
          "output_type": "stream",
          "name": "stderr",
          "text": [
            "/usr/local/lib/python3.10/dist-packages/sklearn/metrics/_classification.py:1471: UndefinedMetricWarning: Precision and F-score are ill-defined and being set to 0.0 in labels with no predicted samples. Use `zero_division` parameter to control this behavior.\n",
            "  _warn_prf(average, modifier, msg_start, len(result))\n",
            "/usr/local/lib/python3.10/dist-packages/sklearn/metrics/_classification.py:1471: UndefinedMetricWarning: Precision and F-score are ill-defined and being set to 0.0 in labels with no predicted samples. Use `zero_division` parameter to control this behavior.\n",
            "  _warn_prf(average, modifier, msg_start, len(result))\n",
            "/usr/local/lib/python3.10/dist-packages/sklearn/metrics/_classification.py:1471: UndefinedMetricWarning: Precision and F-score are ill-defined and being set to 0.0 in labels with no predicted samples. Use `zero_division` parameter to control this behavior.\n",
            "  _warn_prf(average, modifier, msg_start, len(result))\n"
          ]
        }
      ]
    },
    {
      "cell_type": "code",
      "source": [
        "\n",
        "\n",
        "# Step 1: Compute the confusion matrix\n",
        "conf_matrix = confusion_matrix(true_labels, pred_labels)\n",
        "\n",
        "# Step 2: Plot the confusion matrix\n",
        "plt.figure(figsize=(10, 8))\n",
        "sns.heatmap(conf_matrix, annot=True, fmt='d', cmap='Blues', xticklabels=emotion_labels, yticklabels=emotion_labels)\n",
        "plt.ylabel('Actual')\n",
        "plt.xlabel('Predicted')\n",
        "plt.title('Confusion Matrix')\n",
        "plt.show()\n"
      ],
      "metadata": {
        "colab": {
          "base_uri": "https://localhost:8080/",
          "height": 718
        },
        "id": "0TRc1EksLjMK",
        "outputId": "15e49661-bf63-4820-a16e-768ee8fe1cfb"
      },
      "execution_count": 100,
      "outputs": [
        {
          "output_type": "display_data",
          "data": {
            "text/plain": [
              "<Figure size 1000x800 with 2 Axes>"
            ],
            "image/png": "[encoded data removed]"
          },
          "metadata": {}
        }
      ]
    },
    {
      "cell_type": "code",
      "source": [
        "new_tweet = \"Everything seems meaningless right now.\"\n",
        "predicted_emotion = predict_emotion(new_tweet)\n",
        "print(f\"Predicted emotion: {predicted_emotion}\")"
      ],
      "metadata": {
        "colab": {
          "base_uri": "https://localhost:8080/"
        },
        "id": "G2tuy1y2M45_",
        "outputId": "70025d58-09fc-4413-db71-765520062d16"
      },
      "execution_count": 102,
      "outputs": [
        {
          "output_type": "stream",
          "name": "stdout",
          "text": [
            "Predicted emotion: sadness\n"
          ]
        }
      ]
    },
    {
      "cell_type": "code",
      "source": [
        "new_tweet = \"Playing video games with friends is always so much fun!\"\n",
        "predicted_emotion = predict_emotion(new_tweet)\n",
        "print(f\"Predicted emotion: {predicted_emotion}\")"
      ],
      "metadata": {
        "colab": {
          "base_uri": "https://localhost:8080/"
        },
        "id": "5Nj9W1cDVYRS",
        "outputId": "3a88bfc5-777a-4793-82ec-c48f969a46c9"
      },
      "execution_count": 103,
      "outputs": [
        {
          "output_type": "stream",
          "name": "stdout",
          "text": [
            "Predicted emotion: happiness\n"
          ]
        }
      ]
    },
    {
      "cell_type": "code",
      "source": [
        "new_tweet = \"Today has been one of the best days ever!\"\n",
        "predicted_emotion = predict_emotion(new_tweet)\n",
        "print(f\"Predicted emotion: {predicted_emotion}\")"
      ],
      "metadata": {
        "colab": {
          "base_uri": "https://localhost:8080/"
        },
        "id": "LilWdszhVlZ3",
        "outputId": "a0833748-78b6-45a7-dc28-ae8f96ef8da5"
      },
      "execution_count": 104,
      "outputs": [
        {
          "output_type": "stream",
          "name": "stdout",
          "text": [
            "Predicted emotion: happiness\n"
          ]
        }
      ]
    },
    {
      "cell_type": "code",
      "source": [
        "new_tweet = \"I went to the store to buy !\"\n",
        "predicted_emotion = predict_emotion(new_tweet)\n",
        "print(f\"Predicted emotion: {predicted_emotion}\")"
      ],
      "metadata": {
        "colab": {
          "base_uri": "https://localhost:8080/"
        },
        "id": "DD4j4ReYVr-L",
        "outputId": "9780d6c5-a75d-47ec-f165-515c5a7021db"
      },
      "execution_count": 107,
      "outputs": [
        {
          "output_type": "stream",
          "name": "stdout",
          "text": [
            "Predicted emotion: neutral\n"
          ]
        }
      ]
    },
    {
      "cell_type": "code",
      "source": [],
      "metadata": {
        "id": "8kLn0Zt-VurW"
      },
      "execution_count": 105,
      "outputs": []
    }
  ]
}